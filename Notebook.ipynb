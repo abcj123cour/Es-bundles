{
 "cells": [
  {
   "cell_type": "markdown",
   "metadata": {
    "slideshow": {
     "slide_type": "slide"
    }
   },
   "source": [
    "# Bundling Ecosystem Services at a High Resolution: a brief guide\n",
    "\n",
    "This notebook describes the steps in modelling ecosystem services at a 2 m resolution in the combined built-up areas of three large UK towns: Milton Keynes, Bedord and Luton. Three steps are included in identifying ecosystem service bundles and ES trade-offs and synergies, and Bayesian Belief Networks were used to assess whether landscape configuration and landscape connectivity affect ES trade-offs and synergies in urban areas.\n",
    "\n",
    "1. In step 1, six ecosystem services were modelled using the InVEST modelling framework. The six ecosystem services were Habitat quality, Nutrient retention, Pollination, Carbon storage, Potential soil erosion and Water supply. K-means clustering and Principal Component Analysis were conducted to determine the bundles and identify the spatial trade-offs and synergies of the considered ecosystem services.\n",
    "\n",
    "2. In step 2, a Bayesian Belief Network modelling approach was used to test whether landscape configuration could drive ecosystem service trade-offs and synergies. \n",
    "\n",
    "3. Step 3 describes the Bayesian Belief modelling approach to assess whether landscape connectivity could drive ecosystem service trade-offs and synergies."
   ]
  },
  {
   "cell_type": "markdown",
   "metadata": {
    "slideshow": {
     "slide_type": "-"
    }
   },
   "source": [
    "The figure below illustrates the three steps and the thesis framework used to identify the bundles and assess whether landscape configuration and connectivity affect ES trade-offs and synergies."
   ]
  },
  {
   "cell_type": "markdown",
   "metadata": {},
   "source": [
    "<img src=\"img1a.png\" width=600px; height=800px/>\n",
    "<img src=\"img1b.png\" width=600px; height=800px/>\n",
    "<img src=\"img1c.png\" width=600px; height=800px/>"
   ]
  },
  {
   "cell_type": "markdown",
   "metadata": {
    "slideshow": {
     "slide_type": "slide"
    }
   },
   "source": [
    "## Step 1 \n",
    "_Bundling Ecosystem Services_\n",
    "\n",
    "1. Six ecosystem services were modelled using InVEST modelling framework.\n",
    "\n",
    "\n",
    "2. A K-means cluster analysis was conducted to identify the bundles.\n",
    "\n",
    "\n",
    "3. A Principal Component Analysis (PCA) was conducted to identify the ES gradients which represent the trade-offs (or synergies) along which the ecosystem service bundle changed.\n",
    "\n",
    "\n",
    "\n",
    "The PCA showed that regulating services had the tendency to form trade-offs and synergies. There was a significant tendency for trade-offs between regulating services Nutrient retention and Carbon storage. There was a significant tendency for trade-offs between supporting service Habitat quality and Pollinator abundance. There were synergies between Potential soil erosion and Water supply. The six ecosystem services were found to cluster and formed four ecosystem service bundles.\n"
   ]
  },
  {
   "cell_type": "markdown",
   "metadata": {},
   "source": [
    "The maps show the spatial distribution of each ecosystem service bundle for the towns of Bedford, Luton and Milton Keynes, UK.\n",
    "\n",
    "\n",
    "<img src=\"img2a.png\" width=400px; height=600px/>\n",
    "<img src=\"img2b.png\" width=400px; height=600px/>\n",
    "<img src=\"img2c.png\" width=400px; height=600px/>"
   ]
  },
  {
   "cell_type": "markdown",
   "metadata": {
    "slideshow": {
     "slide_type": "slide"
    }
   },
   "source": [
    "The bundles showed grassland areas with prevalent soil erosion and water supply, suburban grassland areas with high levels in nutrient retention and habitat quality, woodland areas with high levels in carbon storage and urban grassland areas with pollinator abundance. The results of this study show that ecosystem service bundle analysis can be used to identify the existence of synergies and trade-offs. This could be used in sustainable ecosystem management and urban planning to improve the provision of multiple ecosystem services in urban areas and in green space design. However, the spatial distribution of the bundles are sensitive to the ecosystem services selected and care should be taken to select model data appropriate to the scale of inquiry. "
   ]
  },
  {
   "cell_type": "markdown",
   "metadata": {},
   "source": [
    "## Step 2: \n",
    "_The Influence of Landscape Configuration_\n",
    "\n",
    "In the second part of the project, patch level and class level metrics were selected to assess the influence of configuration on ES trade-offs and synergies (i.e. the principal components). \n",
    "Spearman’s rank correlation and principal component analysis were employed to identify redundancies between landscape metrics. \n",
    "A BBN modelling approach was used for predicting ES trade-offs and synergies and to test the relationships between landscape configuration and ES trade-offs and synergies. "
   ]
  },
  {
   "cell_type": "markdown",
   "metadata": {},
   "source": [
    "Example of Bayesian Belief Network model structure for Nutrient retention and Carbon storage trade-offs. The influence diagram illustrates the relationship between the predictor variables for the landscape configuration patch-level metrics and the principal component node PC 1, the dependent variable. Arrows denote the direction of probabilistic influence implemented in software rather than causal relationships between the factors.\n",
    "\n",
    "<img src=\"img3.png\" width=400px; height=600px />\n"
   ]
  },
  {
   "cell_type": "markdown",
   "metadata": {},
   "source": [
    "A sensitivity analysis was conducted on the BBN models. At the patch level, Nutrient retention and carbon storage trade-offs were most sensitive to contiguity index (CONTIG). Predicted habitat quality and pollinator abundance trade-offs and predicted potential soil erosion, water supply synergies were most sensitive to core area (CORE) and exhibited a relatively high percentage of variance reduction (respectively, 20.5 and 12.8).The table below shows the results of case testing (error rate) and sensitivity analysis (percent in variance reduction as a metric of the relative importance of each input variable) on Bayesian Belief Network models for PC 1, PC 2 and PC 3 at a 2 m spatial resolution."
   ]
  },
  {
   "cell_type": "markdown",
   "metadata": {},
   "source": [
    "\n",
    "|     | Error rate |CORE |CONTIG |ENN |\n",
    "| --- | --- | --- | --- |--- |\n",
    "| PC 1 | 51.33% | 28.00 | 39.80 | 2.80 |\n",
    "| PC 2 | 70.90% | 20.50 | 12.50 | 0.86 |\n",
    "| PC 3 | 66.86% | 12.80 | 10.40 | 0.75 |"
   ]
  },
  {
   "cell_type": "markdown",
   "metadata": {},
   "source": [
    "The results show that landscape configuration affects ecosystem service interactions and demonstrates that landscape configuration metrics core area and mesh size are influential determinants of ecosystem service trade-offs and synergies. The findings suggest that the core set of metrics MESH, ENN_AM, CORE, ENN and CONTIG could be used as indicators to assess ES interactions in similar urban areas."
   ]
  },
  {
   "cell_type": "markdown",
   "metadata": {},
   "source": [
    "## Step 3\n",
    "_The Influence of Landscape Connectivity_\n",
    "\n",
    "In the third part of the project a Bayesian Belief Network approach was used for predicting ecosystem service trade-offs and synergies and assess whether landscape connectivity could drive ES trade-offs and synergies in urban areas. Circuit theory was used to model urban bird flow at a 2 m spatial resolution in the study area and Bayesian Belief Networks (BBNs) was used to assess the sensitivity of ES trade-offs and synergies model outputs to landscape and patch structural characteristics (patch area, connectivity and bird species abundance).The maps below show the modelled cumulative current maps (rescaled to facilitate comparison between towns) at a 2 m spatial resolution for the towns of Bedford, Luton and Milton Keynes.\n",
    "\n",
    "<img src=\"img4a.png\" width=400px; height=600px/>\n",
    "<img src=\"img4b.png\" width=400px; height=600px/>\n",
    "<img src=\"img4c.png\" width=400px; height=600px/>\n"
   ]
  },
  {
   "cell_type": "markdown",
   "metadata": {},
   "source": [
    "Example of Bayesian Belief Network model structure for Nutrient retention and Carbon storage trade-offs. All models used a comparable structure, with the dependent variable and the conditional probabilities changing between models. The influence diagram illustrates the relationships between the dependent variable (i.e. ES trade-offs or synergies) and the independent variables. \n",
    "<img src=\"img5.png\" width=400px; height=600px/>\n"
   ]
  },
  {
   "cell_type": "markdown",
   "metadata": {},
   "source": [
    "A sensitivity analysis was conducted on the BBN models. Sensitivity analysis determined how much the beliefs (i.e. ES trade-offs and synergies predictions) were influenced by each new finding in the predictor nodes (i.e. changes in patch area, connectivity and bird species abundance). Parameter sensitivities reflect in the models the strength of the relationships between predictors and ES trade-offs and synergies predictions. Connectivity exhibited the greatest sensitivity for two of three ES trade-offs and synergies. Predicted trade-offs of nutrient retention and carbon storage and habitat quality and pollinator abundance were most sensitive to connectivity and exhibited relatively high percentage of variance reduction (respectively, 7.3 and 3.6). The table shows the results of case testing (error rate) and sensitivity analysis (percent in variance reduction as a metric of the relative importance of each input variable) on Bayesian Belief Network models for Nutrient Retention and Carbon storage trade-offs (PC 1), Habitat quality and Pollinator Abundance trade-offs (PC 2) and Soil erosion and Water Supply synergies (PC 3).\n"
   ]
  },
  {
   "cell_type": "markdown",
   "metadata": {},
   "source": [
    "|     | Error rate |Connectivity Current |Bird Spec. Abundance |Patch Area|\n",
    "| --- | --- | --- | --- |--- |\n",
    "| PC 1 | 44.83% | 7.34 | 4.99 | 4.42|\n",
    "| PC 2 | 40.52% | 3.63| 1.00 | 3.07|\n",
    "| PC 3 | 43.10% | 2.01|3.05 | 1.74|"
   ]
  },
  {
   "cell_type": "markdown",
   "metadata": {},
   "source": [
    "The findings show that patch area and connectivity exert a strong influence on ES trade-offs and synergies which supports the principle that, broadly, large and better-connected patches of vegetation increase ES provision and bird abundance. The study showed that connectivity influences ES trade-offs and synergies and that the modelling framework could be used to test the factors that influence ES trade-offs and synergies in complex landscapes. A BBN modelling approach may provide an effective solution to test the potential factors that drive ES trade-offs and assess how ES trade-offs respond to the variation of urban landscape structural features and thereby relevant to landscape-scale research and ES management."
   ]
  },
  {
   "cell_type": "markdown",
   "metadata": {},
   "source": []
  }
 ],
 "metadata": {
  "kernelspec": {
   "display_name": "Python 3",
   "language": "python",
   "name": "python3"
  },
  "language_info": {
   "codemirror_mode": {
    "name": "ipython",
    "version": 3
   },
   "file_extension": ".py",
   "mimetype": "text/x-python",
   "name": "python",
   "nbconvert_exporter": "python",
   "pygments_lexer": "ipython3",
   "version": "3.8.5"
  }
 },
 "nbformat": 4,
 "nbformat_minor": 4
}
